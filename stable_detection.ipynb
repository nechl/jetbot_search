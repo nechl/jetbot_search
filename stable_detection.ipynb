{
 "cells": [
  {
   "cell_type": "markdown",
   "metadata": {},
   "source": [
    "# Object Following - Live Demo\n"
   ]
  },
  {
   "cell_type": "code",
   "execution_count": 1,
   "metadata": {},
   "outputs": [],
   "source": [
    "import time\n",
    "from jetbot import Camera, Robot, ObjectDetector, bgr8_to_jpeg\n",
    "from IPython.display import display\n",
    "import ipywidgets.widgets as widgets\n",
    "import outsourcing_nechl as myhelp\n",
    "import cv2\n",
    "import numpy as np\n",
    "from importlib import reload\n",
    "from ipywidgets import TwoByTwoLayout\n",
    "import nechlBot\n",
    "reload(nechlBot)\n",
    "\n",
    "#only for the obstacle avoidance\n",
    "import torch\n",
    "import torchvision\n",
    "import torch.nn.functional as F"
   ]
  },
  {
   "cell_type": "code",
   "execution_count": 2,
   "metadata": {},
   "outputs": [],
   "source": [
    "model_ob = torchvision.models.alexnet(pretrained=False)\n",
    "model_ob.classifier[6] = torch.nn.Linear(model_ob.classifier[6].in_features, 2)"
   ]
  },
  {
   "cell_type": "code",
   "execution_count": 3,
   "metadata": {},
   "outputs": [
    {
     "data": {
      "text/plain": [
       "<All keys matched successfully>"
      ]
     },
     "execution_count": 3,
     "metadata": {},
     "output_type": "execute_result"
    }
   ],
   "source": [
    "model_ob.load_state_dict(torch.load('best_model.pth'))"
   ]
  },
  {
   "cell_type": "code",
   "execution_count": 4,
   "metadata": {},
   "outputs": [],
   "source": [
    "device = torch.device('cuda')\n",
    "model_ob = model_ob.to(device)"
   ]
  },
  {
   "cell_type": "code",
   "execution_count": 5,
   "metadata": {},
   "outputs": [],
   "source": [
    "mean = 255.0 * np.array([0.485, 0.456, 0.406])\n",
    "stdev = 255.0 * np.array([0.229, 0.224, 0.225])\n",
    "\n",
    "normalize = torchvision.transforms.Normalize(mean, stdev)\n",
    "\n",
    "def preprocess(camera_value):\n",
    "    global device, normalize\n",
    "    x = camera_value\n",
    "    x = cv2.cvtColor(x, cv2.COLOR_BGR2RGB)\n",
    "    x = x.transpose((2, 0, 1))\n",
    "    x = torch.from_numpy(x).float()\n",
    "    x = normalize(x)\n",
    "    x = x.to(device)\n",
    "    x = x[None, ...]\n",
    "    return x"
   ]
  },
  {
   "cell_type": "code",
   "execution_count": 6,
   "metadata": {},
   "outputs": [],
   "source": [
    "return_load_things = myhelp.load_things()\n",
    "items = return_load_things[0]\n",
    "font = return_load_things[1]\n",
    "color = return_load_things[2]\n",
    "fontScale = return_load_things[3]\n",
    "thickness = return_load_things[4]"
   ]
  },
  {
   "cell_type": "markdown",
   "metadata": {},
   "source": [
    "### Compute detections on single camera image"
   ]
  },
  {
   "cell_type": "code",
   "execution_count": 7,
   "metadata": {
    "slideshow": {
     "slide_type": "-"
    }
   },
   "outputs": [],
   "source": [
    "model = ObjectDetector('ssd_mobilenet_v2_coco.engine')"
   ]
  },
  {
   "cell_type": "code",
   "execution_count": 8,
   "metadata": {},
   "outputs": [],
   "source": [
    "camera = Camera.instance(width=300, height=300, fps=5)"
   ]
  },
  {
   "cell_type": "code",
   "execution_count": 9,
   "metadata": {},
   "outputs": [],
   "source": [
    "robot = nechlBot.NechlBot()"
   ]
  },
  {
   "cell_type": "code",
   "execution_count": 10,
   "metadata": {},
   "outputs": [],
   "source": [
    "detections = myhelp.detectt(model,camera)"
   ]
  },
  {
   "cell_type": "code",
   "execution_count": 11,
   "metadata": {},
   "outputs": [],
   "source": [
    "reload(myhelp)\n",
    "image_widget = widgets.Image(format='jpeg', width=300, height=300)\n",
    "blocked_slider = widgets.FloatSlider(description='blocked', min=0.0, max=1.0, orientation='vertical')\n",
    "\n",
    "\n",
    "return_create_widgets=myhelp.create_widgets(detections)\n",
    "button_box = return_create_widgets[0]\n",
    "detections_widget = return_create_widgets[1]\n",
    "button_stop_stream = return_create_widgets[2]\n",
    "button_start_stream = return_create_widgets[3]\n",
    "label_widget = return_create_widgets[4]\n",
    "search_for_widget = return_create_widgets[5]\n",
    "button_search_box = return_create_widgets[6]\n",
    "button_start_search = return_create_widgets[7]\n",
    "button_stop_search = return_create_widgets[8]\n",
    "def cam_stop(change):\n",
    "    camera.unobserve_all()\n",
    "\n",
    "def cam_start(change):\n",
    "    camera.unobserve_all()\n",
    "    camera.observe(execute, names=\"value\")\n",
    "def start_moving(change):\n",
    "    robot.searching = True\n",
    "\n",
    "def restart_searching(change):\n",
    "    robot.searching_status = False\n",
    "    robot.item_found = False\n",
    "    robot.round_search = 0\n",
    "def force_stop(change):\n",
    "    robot.searching_status = False\n",
    "    robot.item_found = True\n",
    "\n",
    "button_stop_stream.on_click(cam_stop)\n",
    "button_start_stream.on_click(cam_start)\n",
    "button_start_search.on_click(restart_searching)\n",
    "button_stop_search.on_click(force_stop)"
   ]
  },
  {
   "cell_type": "code",
   "execution_count": 12,
   "metadata": {},
   "outputs": [],
   "source": [
    "image_number = 0\n",
    "object_number = 0\n",
    "try:\n",
    "    det = detections[image_number][object_number]\n",
    "\n",
    "    for i in range(len(items)):\n",
    "        if str(det[\"label\"]) == items[str(i)][1]:\n",
    "            #print(\"it is a\", items[str(i)][2])\n",
    "            item_detected = items[str(i)][2]\n",
    "except IndexError as e:\n",
    "    pass"
   ]
  },
  {
   "cell_type": "markdown",
   "metadata": {},
   "source": [
    "\n",
    "### Loop through the process for a moving image"
   ]
  },
  {
   "cell_type": "code",
   "execution_count": 13,
   "metadata": {},
   "outputs": [],
   "source": [
    "myhelp.fill_label(items, label_widget)\n",
    "myhelp.fill_label(items, search_for_widget)\n",
    "left_col = widgets.HBox([image_widget, blocked_slider])\n",
    "right_col = widgets.VBox([label_widget,button_box, search_for_widget, button_search_box])\n",
    "\n",
    "t2x2 = TwoByTwoLayout(\n",
    "    top_left = left_col,\n",
    "    top_right = right_col\n",
    "\n",
    ")\n"
   ]
  },
  {
   "cell_type": "code",
   "execution_count": 20,
   "metadata": {},
   "outputs": [
    {
     "data": {
      "application/vnd.jupyter.widget-view+json": {
       "model_id": "c612c8d46a6b4ce892b244605c53ff88",
       "version_major": 2,
       "version_minor": 0
      },
      "text/plain": [
       "TwoByTwoLayout(children=(HBox(children=(Image(value=b'\\xff\\xd8\\xff\\xe0\\x00\\x10JFIF\\x00\\x01\\x01\\x00\\x00\\x01\\x00…"
      ]
     },
     "metadata": {},
     "output_type": "display_data"
    }
   ],
   "source": [
    "robot.searching_status = False\n",
    "display(t2x2)\n",
    "width = int(image_widget.width)\n",
    "height = int(image_widget.height)\n",
    "def execute(change):\n",
    "    image = change['new']\n",
    "    offset_text = 10\n",
    "    x = preprocess(image)\n",
    "    y = model_ob(x)\n",
    "    y = F.softmax(y, dim=1)\n",
    "    \n",
    "    prob_blocked = float(y.flatten()[0])\n",
    "    blocked_slider.value = prob_blocked\n",
    "\n",
    "    \n",
    "    \n",
    "    detections = model(image)\n",
    "    detection_names = myhelp.get_names(detections, items)\n",
    "    try:\n",
    "        first_detection=detections[0][0]\n",
    "        for i in range(len(items)):\n",
    "            if str(first_detection[\"label\"]) == items[str(i)][1]:\n",
    "                item_detected = items[str(i)][2]\n",
    "    except IndexError as e:\n",
    "        pass\n",
    "    \n",
    "    for det in detections[0]:\n",
    "        for i in range(len(items)):\n",
    "            if str(det[\"label\"]) == items[str(i)][1]:\n",
    "                item_detected = items[str(i)][2]\n",
    "                item_chance = str(round((det[\"confidence\"]*100),1))\n",
    "\n",
    "        bbox = det['bbox']\n",
    "        \n",
    "        if (item_detected != search_for_widget.value) and (item_detected != label_widget.value):\n",
    "            new_img = cv2.rectangle(image,  (int(width * bbox[0]), int(height * bbox[1])), (int(width * bbox[2]), int(height * bbox[3])), (255, 0, 0), 2)\n",
    "            new_img = cv2.rectangle(new_img,(int(width * bbox[0]), int(height* bbox[1])), (int(width*bbox[2]), int(height * bbox[1]+12)), (255, 0, 0), -1) \n",
    "            cv2.putText(new_img, item_detected+\"  \"+item_chance+\"%\",(int(width*bbox[0]+5),int(height*bbox[1]+offset_text)), font, 0.3, color,1)\n",
    "        else: \n",
    "            pass\n",
    "    return_check_selected_label = myhelp.check_selected_label(items, label_widget.value, detections)\n",
    "    if return_check_selected_label is not None:\n",
    "        \n",
    "        bbox = return_check_selected_label['bbox']\n",
    "        offset_text = 10        \n",
    "                \n",
    "        item_detected = label_widget.value\n",
    "        item_chance = str(round((return_check_selected_label[\"confidence\"]*100),1))\n",
    "        new_img=cv2.rectangle(image,  (int(width * bbox[0]), int(height * bbox[1])), (int(width * bbox[2]), int(height * bbox[3])), (0, 255, 0), 2)\n",
    "        new_img=cv2.rectangle(new_img,(int(width * bbox[0]), int(height * bbox[1])), (int(width * bbox[2]), int(height * bbox[1]+12)), (0, 255, 0),-1)\n",
    "        cv2.putText(new_img,item_detected+\"  \"+item_chance+\"%\" ,(int(width* bbox[0])+2,int(height*bbox[1])+offset_text), font,0.3,(0,0,0),1)\n",
    "    elif return_check_selected_label is None:\n",
    "        new_img=image\n",
    "    else:\n",
    "        pass\n",
    "    \n",
    "    \n",
    "    ###this part draws the box around the item that has to be detected\n",
    "    return_get_names=(myhelp.get_names(detections,items)) #this revonverts the labels in digits to the string again, which later is displayed\n",
    "    return_get_names_bbox = myhelp.check_selected_label(items, search_for_widget.value, detections) #check if the search field item is currently avaiavle\n",
    "\n",
    "    if return_get_names_bbox is None and search_for_widget.value != \"background\":\n",
    "        pass\n",
    "    if return_get_names_bbox is not None:\n",
    "        bbox = return_get_names_bbox['bbox']\n",
    "        item_detected = search_for_widget.value\n",
    "        item_info = [item_detected,return_get_names_bbox['label']]\n",
    "        item_chance = str(round((return_get_names_bbox['confidence']*100),1))\n",
    "        new_img=cv2.rectangle(new_img,  (int(width * bbox[0]), int(height * bbox[1])), (int(width * bbox[2]), int(height * bbox[3])), (0, 0, 255), 2)\n",
    "        new_img=cv2.rectangle(new_img,(int(width * bbox[0]), int(height * bbox[1])), (int(width * bbox[2]), int(height * bbox[1]+12)), (0, 0, 255),-1)\n",
    "        cv2.putText(new_img,item_detected+\"  \"+item_chance+\"%\" ,(int(width* bbox[0])+2,int(height*bbox[1])+offset_text), font,0.3,(0,0,0),1)\n",
    "\n",
    "    \n",
    "    ###thanks to item_found, we only need one frame with positive detection and the robot stops, that is very useful.\n",
    "    if (search_for_widget.value not in detection_names) and (robot.item_found == False) and (search_for_widget.value is not 'background'):\n",
    "        if prob_blocked > 0.51:\n",
    "            robot.backward(0.3)\n",
    "            time.sleep(0.1)\n",
    "            robot.rotate_left(22.5)\n",
    "        elif prob_blocked <0.5:\n",
    "            robot.searching_around()\n",
    "            robot.searching_status = True\n",
    "            \n",
    "    elif (search_for_widget.value in detection_names) or (robot.item_found == True):\n",
    "        robot.searching_status = False\n",
    "        robot.item_found = True\n",
    "   \n",
    "\n",
    "     \n",
    "    # update image widget\n",
    "    image_widget.value = bgr8_to_jpeg(new_img)\n",
    "    time.sleep(0.1)\n",
    "    \n",
    "execute({'new': camera.value})\n",
    "\n"
   ]
  },
  {
   "cell_type": "markdown",
   "metadata": {},
   "source": [
    "robot.searching_status \n"
   ]
  },
  {
   "cell_type": "code",
   "execution_count": 15,
   "metadata": {},
   "outputs": [],
   "source": [
    "#dir(dd)"
   ]
  },
  {
   "cell_type": "code",
   "execution_count": 16,
   "metadata": {},
   "outputs": [],
   "source": [
    "#dd.trait_names()"
   ]
  },
  {
   "cell_type": "markdown",
   "metadata": {},
   "source": [
    "from traitlets import HasTraits,Bool\n",
    "import time\n",
    "class Test(HasTraits):\n",
    "    status = Bool()\n",
    "\n",
    "    def searching_status_watcher(self, status):\n",
    "        if status[\"old\"] == False and status[\"new\"] == True:\n",
    "            robot.forward(0.2)\n",
    "        elif status['old'] == True and status['new'] == False:\n",
    "            robot.stop()\n",
    "    \n",
    "    \n",
    "test = Test()\n",
    "test.observe(test.searching_status_watcher,names=['status',])\n"
   ]
  },
  {
   "cell_type": "code",
   "execution_count": 17,
   "metadata": {},
   "outputs": [
    {
     "ename": "NameError",
     "evalue": "name 'test' is not defined",
     "output_type": "error",
     "traceback": [
      "\u001b[0;31m---------------------------------------------------------------------------\u001b[0m",
      "\u001b[0;31mNameError\u001b[0m                                 Traceback (most recent call last)",
      "\u001b[0;32m<ipython-input-17-6917328cab60>\u001b[0m in \u001b[0;36m<module>\u001b[0;34m\u001b[0m\n\u001b[0;32m----> 1\u001b[0;31m \u001b[0mtest\u001b[0m\u001b[0;34m.\u001b[0m\u001b[0mstatus\u001b[0m \u001b[0;34m=\u001b[0m \u001b[0;32mFalse\u001b[0m\u001b[0;34m\u001b[0m\u001b[0;34m\u001b[0m\u001b[0m\n\u001b[0m",
      "\u001b[0;31mNameError\u001b[0m: name 'test' is not defined"
     ]
    }
   ],
   "source": [
    "test.status = False"
   ]
  },
  {
   "cell_type": "code",
   "execution_count": null,
   "metadata": {},
   "outputs": [],
   "source": []
  },
  {
   "cell_type": "code",
   "execution_count": null,
   "metadata": {},
   "outputs": [],
   "source": []
  },
  {
   "cell_type": "code",
   "execution_count": null,
   "metadata": {},
   "outputs": [],
   "source": []
  },
  {
   "cell_type": "code",
   "execution_count": null,
   "metadata": {},
   "outputs": [],
   "source": []
  },
  {
   "cell_type": "code",
   "execution_count": null,
   "metadata": {},
   "outputs": [],
   "source": []
  },
  {
   "cell_type": "code",
   "execution_count": null,
   "metadata": {},
   "outputs": [],
   "source": []
  },
  {
   "cell_type": "code",
   "execution_count": null,
   "metadata": {},
   "outputs": [],
   "source": []
  },
  {
   "cell_type": "code",
   "execution_count": null,
   "metadata": {},
   "outputs": [],
   "source": []
  },
  {
   "cell_type": "code",
   "execution_count": null,
   "metadata": {},
   "outputs": [],
   "source": [
    "r.item_searching"
   ]
  }
 ],
 "metadata": {
  "kernelspec": {
   "display_name": "Python 3",
   "language": "python",
   "name": "python3"
  },
  "language_info": {
   "codemirror_mode": {
    "name": "ipython",
    "version": 3
   },
   "file_extension": ".py",
   "mimetype": "text/x-python",
   "name": "python",
   "nbconvert_exporter": "python",
   "pygments_lexer": "ipython3",
   "version": "3.6.9"
  }
 },
 "nbformat": 4,
 "nbformat_minor": 4
}
